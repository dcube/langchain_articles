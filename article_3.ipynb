{
 "cells": [
  {
   "cell_type": "code",
   "execution_count": null,
   "metadata": {},
   "outputs": [],
   "source": [
    "from langchain.chains import ConversationChain\n",
    "from langchain.memory import ConversationBufferMemory\n",
    "from langchain_openai import AzureChatOpenAI\n",
    "from dotenv import load_dotenv, find_dotenv\n",
    "import PyPDF2\n",
    "import os\n",
    "from langchain_text_splitters import RecursiveCharacterTextSplitter\n",
    "from langchain.document_loaders import UnstructuredFileLoader\n",
    "from langchain.chains.summarize import load_summarize_chain\n",
    "from langchain.chains.question_answering import load_qa_chain\n",
    "from langserve import RemoteRunnable\n",
    "\n",
    "_ = load_dotenv(find_dotenv())\n",
    "\n",
    "chat_model = AzureChatOpenAI(\n",
    "    openai_api_version=\"2023-09-01-preview\",\n",
    "    azure_endpoint=os.getenv('AZURE_API_ENDPOINT'),\n",
    "    api_key=os.getenv('AZURE_OPENAI_API_KEY'),\n",
    "    azure_deployment=os.getenv('OPENAI_DEPLOYMENT_NAME'),\n",
    "    model_name=os.getenv('OPENAI_MODEL_NAME'),\n",
    "    model_version=os.getenv('OPENAI_API_VERSION')\n",
    ")"
   ]
  },
  {
   "cell_type": "code",
   "execution_count": null,
   "metadata": {},
   "outputs": [],
   "source": [
    "from langchain.chains.api import open_meteo_docs\n",
    "\n",
    "# Création de la chaine météo\n",
    "Meteochain = APIChain.from_llm_and_api_docs(\n",
    "    llm,\n",
    "    open_meteo_docs.OPEN_METEO_DOCS,\n",
    "    verbose=True,\n",
    "    limit_to_domains=[\"https://api.open-meteo.com/\"],\n",
    ")\n",
    "\n",
    "def askWeatherQuestion(weatherQuestion):\n",
    "    response = Meteochain.invoke(weatherQuestion)[\"output\"]\n",
    "    return response"
   ]
  },
  {
   "cell_type": "code",
   "execution_count": null,
   "metadata": {},
   "outputs": [],
   "source": [
    "# Documentation sur l'API TMDB\n",
    "moovie_api_docs = \"\"\"\n",
    "API documentation:\n",
    "Base URL: (https://api.themoviedb.org)\n",
    "L'API de The Movie Database (TMDB) fournit l'accès à une variété de endpoint, chacun servant différentes données liées aux films, aux émissions de télévision, et plus encore.\n",
    "Répond toujours en francais \n",
    "\"\"\"\n",
    "\n",
    "tmdbKey = os.getenv(\"tmdb_key\")\n",
    "# Nécéssaire pour utiliser l'API\n",
    "headers = {\n",
    "    \"Authorization\": f\"Bearer {tmdbKey}\" \n",
    "}\n",
    "\n",
    "# Création de la chaine\n",
    "moovie_api_chain = APIChain.from_llm_and_api_docs(\n",
    "    llm,\n",
    "    moovie_api_docs,\n",
    "    verbose=True,\n",
    "    limit_to_domains=[\"https://api.themoviedb.org\"],\n",
    "    headers=headers,\n",
    "    memory=ConversationBufferMemory(),\n",
    ")\n",
    "\n",
    "def AskTMDB(question):\n",
    "    reponse = moovie_api_chain.invoke(question)[\"output\"]\n",
    "    return reponse"
   ]
  },
  {
   "cell_type": "code",
   "execution_count": null,
   "metadata": {},
   "outputs": [],
   "source": []
  }
 ],
 "metadata": {
  "language_info": {
   "name": "python"
  }
 },
 "nbformat": 4,
 "nbformat_minor": 2
}
