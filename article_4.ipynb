{
 "cells": [
  {
   "cell_type": "code",
   "execution_count": null,
   "metadata": {},
   "outputs": [],
   "source": [
    "from langchain.chains import ConversationChain\n",
    "from langchain.memory import ConversationBufferMemory\n",
    "from langchain_openai import AzureChatOpenAI\n",
    "from dotenv import load_dotenv, find_dotenv\n",
    "import PyPDF2\n",
    "import os\n",
    "from langchain_text_splitters import RecursiveCharacterTextSplitter\n",
    "from langchain.document_loaders import UnstructuredFileLoader\n",
    "from langchain.chains.summarize import load_summarize_chain\n",
    "from langchain.chains.question_answering import load_qa_chain\n",
    "from langserve import RemoteRunnable\n",
    "\n",
    "_ = load_dotenv(find_dotenv())\n",
    "\n",
    "chat_model = AzureChatOpenAI(\n",
    "    openai_api_version=\"2023-09-01-preview\",\n",
    "    azure_endpoint=os.getenv('AZURE_API_ENDPOINT'),\n",
    "    api_key=os.getenv('AZURE_OPENAI_API_KEY'),\n",
    "    azure_deployment=os.getenv('OPENAI_DEPLOYMENT_NAME'),\n",
    "    model_name=os.getenv('OPENAI_MODEL_NAME'),\n",
    "    model_version=os.getenv('OPENAI_API_VERSION')\n",
    ")"
   ]
  },
  {
   "cell_type": "code",
   "execution_count": null,
   "metadata": {},
   "outputs": [],
   "source": [
    "RouterChain = (\n",
    "    PromptTemplate.from_template(\n",
    "        \"\"\"en fonction de la question de l'utilisateur , classe la question dans le topic \"meteo\" ,  `moovie` ou \"general\"\n",
    "        si la question ne s'inscrit dans aucun des 2 topics\n",
    "Ne répond pas en plus d'un mot\n",
    "\n",
    "<question>\n",
    "{question}\n",
    "</question>\n",
    "\n",
    "Classification:\"\"\") | llm | StrOutputParser())"
   ]
  },
  {
   "cell_type": "code",
   "execution_count": null,
   "metadata": {},
   "outputs": [],
   "source": [
    "GeneralChain = PromptTemplate.from_template(\n",
    "    \"\"\"RRépond a la question suivante:\n",
    "Question: {question}\n",
    "\"\"\"\n",
    ") | llm"
   ]
  },
  {
   "cell_type": "code",
   "execution_count": null,
   "metadata": {},
   "outputs": [],
   "source": [
    "def route(info):\n",
    "    if \"meteo\" in info[\"topic\"].lower():\n",
    "        return Meteochain\n",
    "    elif \"moovie\" in info[\"topic\"].lower():\n",
    "        return moovie_api_chain\n",
    "    else:\n",
    "        return GeneralChain"
   ]
  },
  {
   "cell_type": "code",
   "execution_count": null,
   "metadata": {},
   "outputs": [],
   "source": [
    "full_chain = {\"topic\": RouterChain, \"question\": lambda x: x[\"question\"]} \n",
    "| RunnableLambda(\n",
    "    route\n",
    ")"
   ]
  },
  {
   "cell_type": "code",
   "execution_count": null,
   "metadata": {},
   "outputs": [],
   "source": [
    "def ask(q):\n",
    "    reponse = full_chain.invoke({\"question\":q})\n",
    "    print(reponse)"
   ]
  },
  {
   "cell_type": "code",
   "execution_count": null,
   "metadata": {},
   "outputs": [],
   "source": []
  }
 ],
 "metadata": {
  "language_info": {
   "name": "python"
  }
 },
 "nbformat": 4,
 "nbformat_minor": 2
}
